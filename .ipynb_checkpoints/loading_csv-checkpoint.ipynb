{
 "cells": [
  {
   "cell_type": "code",
   "execution_count": 28,
   "metadata": {},
   "outputs": [
    {
     "name": "stdout",
     "output_type": "stream",
     "text": [
      "1 Set Declarations\n",
      "    p_cost_index : Dim=0, Dimen=2, Size=15, Domain=None, Ordered=True, Bounds=None\n",
      "        Virtual\n",
      "\n",
      "2 RangeSet Declarations\n",
      "    i_op : Dim=0, Dimen=1, Size=3, Domain=Integers, Ordered=True, Bounds=(1, 3)\n",
      "        Virtual\n",
      "    i_y : Dim=0, Dimen=1, Size=5, Domain=Integers, Ordered=True, Bounds=(1, 5)\n",
      "        Virtual\n",
      "\n",
      "1 Param Declarations\n",
      "    p_cost : Size=6, Index=p_cost_index, Domain=Any, Default=None, Mutable=False\n",
      "        Key    : Value\n",
      "        (1, 1) :    50\n",
      "        (1, 2) :   100\n",
      "        (2, 1) :    76\n",
      "        (2, 2) :    50\n",
      "        (3, 1) :    30\n",
      "        (3, 2) :     1\n",
      "\n",
      "4 Declarations: i_op i_y p_cost_index p_cost\n"
     ]
    }
   ],
   "source": [
    "from pyomo.environ import *\n",
    "\n",
    "m = AbstractModel()\n",
    "data = DataPortal()\n",
    "\n",
    "# Sets\n",
    "# m.p_no_of_op = Param()\n",
    "\n",
    "m.i_op = RangeSet(1, 3)\n",
    "m.i_y = RangeSet(1, 5)\n",
    "m.p_cost = Param(m.i_op,m.i_y)\n",
    "\n",
    "\n",
    "# data.load(filename='ExcelData.csv', \n",
    "#           range='p_no_of_op',\n",
    "#           param=m.p_no_of_op)\n",
    "\n",
    "data.load(filename='ExcelData2.csv', \n",
    "          format='table',\n",
    "          param=m.p_cost,\n",
    "          index=(m.i_op, m.i_y))\n",
    "\n",
    "i = m.create_instance(data)\n",
    "i.pprint()"
   ]
  },
  {
   "cell_type": "code",
   "execution_count": 25,
   "metadata": {},
   "outputs": [],
   "source": [
    "DataPortal.load?"
   ]
  }
 ],
 "metadata": {
  "kernelspec": {
   "display_name": "Python 3",
   "language": "python",
   "name": "python3"
  },
  "language_info": {
   "codemirror_mode": {
    "name": "ipython",
    "version": 3
   },
   "file_extension": ".py",
   "mimetype": "text/x-python",
   "name": "python",
   "nbconvert_exporter": "python",
   "pygments_lexer": "ipython3",
   "version": "3.6.5"
  }
 },
 "nbformat": 4,
 "nbformat_minor": 2
}
