{
 "cells": [
  {
   "cell_type": "code",
   "execution_count": 63,
   "metadata": {},
   "outputs": [],
   "source": [
    "from pyomo.environ import *\n",
    "\n",
    "m = AbstractModel()\n",
    "data = DataPortal()\n",
    "\n",
    "# sets\n",
    "m.i_op = Set()\n",
    "\n",
    "# parameters\n",
    "m.p_capacity = Param(m.i_op)\n",
    "m.p_demand = Param()\n",
    "m.p_cost = Param(m.i_op)\n",
    "\n",
    "# data import\n",
    "data.load(filename='EBSD_i_op_data.csv', \n",
    "          format='set',\n",
    "          set=m.i_op)\n",
    "\n",
    "data.load(filename='EBSD_p_demand_data.csv', \n",
    "          param=m.p_demand)\n",
    "\n",
    "data.load(filename='EBSD_param_data.csv', \n",
    "          format='table',\n",
    "          param=(m.p_capacity, m.p_cost),\n",
    "          index=m.i_op)\n",
    "\n",
    "# variables\n",
    "m.v_u = Var(m.i_op, domain=NonNegativeReals)\n",
    "\n",
    "# objective\n",
    "def obj_rule(m):\n",
    "    return summation(m.p_cost, m.v_u)\n",
    "m.obj = Objective(rule=obj_rule)\n",
    "\n",
    "# constraints\n",
    "def c_rule_supplyMeetsDemand(m):\n",
    "    return sum(m.v_u[op] for op in m.i_op) >= m.p_demand\n",
    "m.c_supplyMeetsDemand = Constraint(rule=c_rule_supplyMeetsDemand)\n",
    "\n",
    "def c_rule_uLessThanCap(m, op):\n",
    "    return m.v_u[op] <= m.p_capacity[op]\n",
    "m.c_uLessThanCap = Constraint(m.i_op, rule=c_rule_uLessThanCap)\n"
   ]
  },
  {
   "cell_type": "code",
   "execution_count": 64,
   "metadata": {},
   "outputs": [
    {
     "name": "stdout",
     "output_type": "stream",
     "text": [
      "GLPSOL: GLPK LP/MIP Solver, v4.65\n",
      "Parameter(s) specified in the command line:\n",
      " --write C:\\Users\\user1\\AppData\\Local\\Temp\\tmp8c6l_154.glpk.raw --wglp C:\\Users\\user1\\AppData\\Local\\Temp\\tmpggrtrsrg.glpk.glp\n",
      " --cpxlp C:\\Users\\user1\\AppData\\Local\\Temp\\tmp21gedvcm.pyomo.lp\n",
      "Reading problem data from 'C:\\Users\\user1\\AppData\\Local\\Temp\\tmp21gedvcm.pyomo.lp'...\n",
      "5 rows, 4 columns, 7 non-zeros\n",
      "36 lines were read\n",
      "Writing problem data to 'C:\\Users\\user1\\AppData\\Local\\Temp\\tmpggrtrsrg.glpk.glp'...\n",
      "27 lines were written\n",
      "GLPK Simplex Optimizer, v4.65\n",
      "5 rows, 4 columns, 7 non-zeros\n",
      "Preprocessing...\n",
      "1 row, 3 columns, 3 non-zeros\n",
      "Scaling...\n",
      " A: min|aij| =  1.000e+00  max|aij| =  1.000e+00  ratio =  1.000e+00\n",
      "Problem data seem to be well scaled\n",
      "Constructing initial basis...\n",
      "Size of triangular part is 1\n",
      "      0: obj =   0.000000000e+00 inf =   1.200e+02 (1)\n",
      "      2: obj =   6.400000000e+03 inf =   0.000e+00 (0)\n",
      "*     5: obj =   3.600000000e+02 inf =   0.000e+00 (0)\n",
      "OPTIMAL LP SOLUTION FOUND\n",
      "Time used:   0.0 secs\n",
      "Memory used: 0.0 Mb (40400 bytes)\n",
      "Writing basic solution to 'C:\\Users\\user1\\AppData\\Local\\Temp\\tmp8c6l_154.glpk.raw'...\n",
      "18 lines were written\n",
      "# ==========================================================\n",
      "# = Solver Results                                         =\n",
      "# ==========================================================\n",
      "# ----------------------------------------------------------\n",
      "#   Problem Information\n",
      "# ----------------------------------------------------------\n",
      "Problem: \n",
      "- Name: unknown\n",
      "  Lower bound: 360.0\n",
      "  Upper bound: 360.0\n",
      "  Number of objectives: 1\n",
      "  Number of constraints: 5\n",
      "  Number of variables: 4\n",
      "  Number of nonzeros: 7\n",
      "  Sense: minimize\n",
      "# ----------------------------------------------------------\n",
      "#   Solver Information\n",
      "# ----------------------------------------------------------\n",
      "Solver: \n",
      "- Status: ok\n",
      "  Termination condition: optimal\n",
      "  Statistics: \n",
      "    Branch and bound: \n",
      "      Number of bounded subproblems: 0\n",
      "      Number of created subproblems: 0\n",
      "  Error rc: 0\n",
      "  Time: 0.062042951583862305\n",
      "# ----------------------------------------------------------\n",
      "#   Solution Information\n",
      "# ----------------------------------------------------------\n",
      "Solution: \n",
      "- number of solutions: 0\n",
      "  number of solutions displayed: 0\n"
     ]
    }
   ],
   "source": [
    "i = m.create_instance(data)\n",
    "solver = SolverFactory('glpk')\n",
    "run = solver.solve(i, tee=True)\n",
    "run.write(num=1)\n",
    "\n",
    "i.solutions.load_from(results)\n"
   ]
  },
  {
   "cell_type": "code",
   "execution_count": 73,
   "metadata": {},
   "outputs": [
    {
     "name": "stdout",
     "output_type": "stream",
     "text": [
      "v_u[DM1] 0.0\n",
      "v_u[RES1] 120.0\n",
      "v_u[GW1] 0.0\n"
     ]
    }
   ],
   "source": [
    "for v in i.component_data_objects(Var):\n",
    "  print(str(v), v.value)"
   ]
  }
 ],
 "metadata": {
  "kernelspec": {
   "display_name": "Python 3",
   "language": "python",
   "name": "python3"
  },
  "language_info": {
   "codemirror_mode": {
    "name": "ipython",
    "version": 3
   },
   "file_extension": ".py",
   "mimetype": "text/x-python",
   "name": "python",
   "nbconvert_exporter": "python",
   "pygments_lexer": "ipython3",
   "version": "3.6.5"
  }
 },
 "nbformat": 4,
 "nbformat_minor": 2
}
